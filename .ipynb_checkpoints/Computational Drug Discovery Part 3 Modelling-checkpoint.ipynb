{
 "cells": [
  {
   "cell_type": "markdown",
   "metadata": {},
   "source": [
    "**This notebook contains a simple linear regression model to predict the IC50 values of various compounds.**"
   ]
  },
  {
   "cell_type": "code",
   "execution_count": 14,
   "metadata": {},
   "outputs": [],
   "source": [
    "import pandas as pd\n",
    "import numpy as np\n",
    "import seaborn as sns\n",
    "import matplotlib.pyplot as plt\n",
    "%matplotlib inline"
   ]
  },
  {
   "cell_type": "code",
   "execution_count": 2,
   "metadata": {},
   "outputs": [
    {
     "data": {
      "text/html": [
       "<div>\n",
       "<style scoped>\n",
       "    .dataframe tbody tr th:only-of-type {\n",
       "        vertical-align: middle;\n",
       "    }\n",
       "\n",
       "    .dataframe tbody tr th {\n",
       "        vertical-align: top;\n",
       "    }\n",
       "\n",
       "    .dataframe thead th {\n",
       "        text-align: right;\n",
       "    }\n",
       "</style>\n",
       "<table border=\"1\" class=\"dataframe\">\n",
       "  <thead>\n",
       "    <tr style=\"text-align: right;\">\n",
       "      <th></th>\n",
       "      <th>molecule_chembl_id</th>\n",
       "      <th>canonical_smiles</th>\n",
       "      <th>bioactivity_class</th>\n",
       "      <th>MW</th>\n",
       "      <th>LogP</th>\n",
       "      <th>NumHDonors</th>\n",
       "      <th>NumHAcceptors</th>\n",
       "      <th>pIC50</th>\n",
       "    </tr>\n",
       "  </thead>\n",
       "  <tbody>\n",
       "    <tr>\n",
       "      <th>0</th>\n",
       "      <td>CHEMBL185698</td>\n",
       "      <td>O=C1C(=O)N(CC2COc3ccccc3O2)c2ccc(I)cc21</td>\n",
       "      <td>Inactive</td>\n",
       "      <td>421.190</td>\n",
       "      <td>2.6605</td>\n",
       "      <td>0.0</td>\n",
       "      <td>4.0</td>\n",
       "      <td>4.869666</td>\n",
       "    </tr>\n",
       "    <tr>\n",
       "      <th>1</th>\n",
       "      <td>CHEMBL426082</td>\n",
       "      <td>O=C1C(=O)N(Cc2cc3ccccc3s2)c2ccccc21</td>\n",
       "      <td>Inactive</td>\n",
       "      <td>293.347</td>\n",
       "      <td>3.6308</td>\n",
       "      <td>0.0</td>\n",
       "      <td>3.0</td>\n",
       "      <td>4.882397</td>\n",
       "    </tr>\n",
       "    <tr>\n",
       "      <th>2</th>\n",
       "      <td>CHEMBL365134</td>\n",
       "      <td>O=C1C(=O)N(Cc2cc3ccccc3s2)c2c(Br)cccc21</td>\n",
       "      <td>Active</td>\n",
       "      <td>372.243</td>\n",
       "      <td>4.3933</td>\n",
       "      <td>0.0</td>\n",
       "      <td>3.0</td>\n",
       "      <td>6.008774</td>\n",
       "    </tr>\n",
       "    <tr>\n",
       "      <th>3</th>\n",
       "      <td>CHEMBL190743</td>\n",
       "      <td>O=C1C(=O)N(Cc2cc3ccccc3s2)c2ccc(I)cc21</td>\n",
       "      <td>Active</td>\n",
       "      <td>419.243</td>\n",
       "      <td>4.2354</td>\n",
       "      <td>0.0</td>\n",
       "      <td>3.0</td>\n",
       "      <td>6.022276</td>\n",
       "    </tr>\n",
       "    <tr>\n",
       "      <th>4</th>\n",
       "      <td>CHEMBL365469</td>\n",
       "      <td>O=C1C(=O)N(Cc2cc3ccccc3s2)c2cccc(Cl)c21</td>\n",
       "      <td>Inactive</td>\n",
       "      <td>327.792</td>\n",
       "      <td>4.2842</td>\n",
       "      <td>0.0</td>\n",
       "      <td>3.0</td>\n",
       "      <td>4.950782</td>\n",
       "    </tr>\n",
       "  </tbody>\n",
       "</table>\n",
       "</div>"
      ],
      "text/plain": [
       "  molecule_chembl_id                         canonical_smiles  \\\n",
       "0       CHEMBL185698  O=C1C(=O)N(CC2COc3ccccc3O2)c2ccc(I)cc21   \n",
       "1       CHEMBL426082      O=C1C(=O)N(Cc2cc3ccccc3s2)c2ccccc21   \n",
       "2       CHEMBL365134  O=C1C(=O)N(Cc2cc3ccccc3s2)c2c(Br)cccc21   \n",
       "3       CHEMBL190743   O=C1C(=O)N(Cc2cc3ccccc3s2)c2ccc(I)cc21   \n",
       "4       CHEMBL365469  O=C1C(=O)N(Cc2cc3ccccc3s2)c2cccc(Cl)c21   \n",
       "\n",
       "  bioactivity_class       MW    LogP  NumHDonors  NumHAcceptors     pIC50  \n",
       "0          Inactive  421.190  2.6605         0.0            4.0  4.869666  \n",
       "1          Inactive  293.347  3.6308         0.0            3.0  4.882397  \n",
       "2            Active  372.243  4.3933         0.0            3.0  6.008774  \n",
       "3            Active  419.243  4.2354         0.0            3.0  6.022276  \n",
       "4          Inactive  327.792  4.2842         0.0            3.0  4.950782  "
      ]
     },
     "execution_count": 2,
     "metadata": {},
     "output_type": "execute_result"
    }
   ],
   "source": [
    "df = pd.read_csv('bioactivity_data_processed_pIC50_2classes.csv')\n",
    "df.head()"
   ]
  },
  {
   "cell_type": "code",
   "execution_count": 3,
   "metadata": {},
   "outputs": [
    {
     "name": "stdout",
     "output_type": "stream",
     "text": [
      "<class 'pandas.core.frame.DataFrame'>\n",
      "RangeIndex: 119 entries, 0 to 118\n",
      "Data columns (total 8 columns):\n",
      " #   Column              Non-Null Count  Dtype  \n",
      "---  ------              --------------  -----  \n",
      " 0   molecule_chembl_id  119 non-null    object \n",
      " 1   canonical_smiles    119 non-null    object \n",
      " 2   bioactivity_class   119 non-null    object \n",
      " 3   MW                  119 non-null    float64\n",
      " 4   LogP                119 non-null    float64\n",
      " 5   NumHDonors          119 non-null    float64\n",
      " 6   NumHAcceptors       119 non-null    float64\n",
      " 7   pIC50               119 non-null    float64\n",
      "dtypes: float64(5), object(3)\n",
      "memory usage: 7.6+ KB\n"
     ]
    }
   ],
   "source": [
    "df.info()"
   ]
  },
  {
   "cell_type": "code",
   "execution_count": 4,
   "metadata": {},
   "outputs": [
    {
     "data": {
      "text/plain": [
       "(119, 4)"
      ]
     },
     "execution_count": 4,
     "metadata": {},
     "output_type": "execute_result"
    }
   ],
   "source": [
    "X = df[['MW', 'LogP', 'NumHDonors', 'NumHAcceptors']]\n",
    "X.shape"
   ]
  },
  {
   "cell_type": "code",
   "execution_count": 5,
   "metadata": {},
   "outputs": [
    {
     "data": {
      "text/plain": [
       "(119,)"
      ]
     },
     "execution_count": 5,
     "metadata": {},
     "output_type": "execute_result"
    }
   ],
   "source": [
    "y = df['pIC50']\n",
    "y.shape"
   ]
  },
  {
   "cell_type": "code",
   "execution_count": 6,
   "metadata": {},
   "outputs": [],
   "source": [
    "# splitting data\n",
    "from sklearn.model_selection import train_test_split\n",
    "\n",
    "X_train, X_test, Y_train, Y_test = train_test_split(X,y,test_size=0.2)"
   ]
  },
  {
   "cell_type": "code",
   "execution_count": 7,
   "metadata": {},
   "outputs": [
    {
     "data": {
      "text/plain": [
       "((95, 4), (95,))"
      ]
     },
     "execution_count": 7,
     "metadata": {},
     "output_type": "execute_result"
    }
   ],
   "source": [
    "X_train.shape, Y_train.shape"
   ]
  },
  {
   "cell_type": "code",
   "execution_count": 8,
   "metadata": {},
   "outputs": [
    {
     "data": {
      "text/plain": [
       "((24, 4), (24,))"
      ]
     },
     "execution_count": 8,
     "metadata": {},
     "output_type": "execute_result"
    }
   ],
   "source": [
    "X_test.shape, Y_test.shape"
   ]
  },
  {
   "cell_type": "code",
   "execution_count": 9,
   "metadata": {},
   "outputs": [
    {
     "data": {
      "text/plain": [
       "LinearRegression(copy_X=True, fit_intercept=True, n_jobs=None, normalize=False)"
      ]
     },
     "execution_count": 9,
     "metadata": {},
     "output_type": "execute_result"
    }
   ],
   "source": [
    "# Linear regression model\n",
    "from sklearn.linear_model import LinearRegression\n",
    "\n",
    "linreg = LinearRegression()\n",
    "\n",
    "linreg.fit(X_train, Y_train)"
   ]
  },
  {
   "cell_type": "code",
   "execution_count": 10,
   "metadata": {},
   "outputs": [
    {
     "name": "stdout",
     "output_type": "stream",
     "text": [
      "Training score: 0.2962571445926022\n",
      "Test score: 0.3291508713961353\n"
     ]
    }
   ],
   "source": [
    "# scoring the model\n",
    "\n",
    "print(f'Training score: {linreg.score(X_train, Y_train)}')\n",
    "print(f'Test score: {linreg.score(X_test, Y_test)}')"
   ]
  },
  {
   "cell_type": "code",
   "execution_count": 12,
   "metadata": {},
   "outputs": [
    {
     "data": {
      "text/plain": [
       "array([4.81924074, 2.70278483, 3.42822047, 3.8974884 , 4.00668112,\n",
       "       4.68271712, 4.00668112, 3.42822047, 2.99790817, 2.76809726,\n",
       "       4.58516661, 2.46345195, 2.98466202, 2.59937214, 4.84255574,\n",
       "       4.93908034, 2.83482858, 3.21875862, 3.40478041, 5.59206854,\n",
       "       5.01031422, 4.00668112, 3.54823205, 5.71337251])"
      ]
     },
     "execution_count": 12,
     "metadata": {},
     "output_type": "execute_result"
    }
   ],
   "source": [
    "Y_pred = linreg.predict(X_test)\n",
    "Y_pred"
   ]
  },
  {
   "cell_type": "code",
   "execution_count": 13,
   "metadata": {},
   "outputs": [
    {
     "data": {
      "text/plain": [
       "72     6.045757\n",
       "46     1.000000\n",
       "33     4.823909\n",
       "95     7.187087\n",
       "108    4.283997\n",
       "116    4.939302\n",
       "99     4.605548\n",
       "32     1.000000\n",
       "23     3.698970\n",
       "82     5.000000\n",
       "85     4.744727\n",
       "52     1.000000\n",
       "68     1.000000\n",
       "56     1.000000\n",
       "104    4.675718\n",
       "114    4.974694\n",
       "29     4.346787\n",
       "54     1.000000\n",
       "87     4.698970\n",
       "7      4.756962\n",
       "109    4.057496\n",
       "105    4.970616\n",
       "84     4.795880\n",
       "0      4.869666\n",
       "Name: pIC50, dtype: float64"
      ]
     },
     "execution_count": 13,
     "metadata": {},
     "output_type": "execute_result"
    }
   ],
   "source": [
    "Y_test"
   ]
  },
  {
   "cell_type": "code",
   "execution_count": 27,
   "metadata": {},
   "outputs": [
    {
     "name": "stderr",
     "output_type": "stream",
     "text": [
      "/opt/anaconda3/lib/python3.7/site-packages/seaborn/_decorators.py:43: FutureWarning: Pass the following variables as keyword args: x, y. From version 0.12, the only valid positional argument will be `data`, and passing other arguments without an explicit keyword will result in an error or misinterpretation.\n",
      "  FutureWarning\n"
     ]
    },
    {
     "data": {
      "image/png": "[encoded data removed]",
      "text/plain": [
       "<Figure size 432x288 with 1 Axes>"
      ]
     },
     "metadata": {
      "needs_background": "light"
     },
     "output_type": "display_data"
    }
   ],
   "source": [
    "plt.figure()\n",
    "sns.regplot(Y_test, Y_pred)\n",
    "plt.xlabel('Experimental pIC50', fontsize='large', fontweight='bold')\n",
    "plt.ylabel('Predicted pIC50', fontsize='large', fontweight='bold')\n",
    "plt.show()"
   ]
  },
  {
   "cell_type": "code",
   "execution_count": null,
   "metadata": {},
   "outputs": [],
   "source": []
  }
 ],
 "metadata": {
  "kernelspec": {
   "display_name": "Python 3",
   "language": "python",
   "name": "python3"
  },
  "language_info": {
   "codemirror_mode": {
    "name": "ipython",
    "version": 3
   },
   "file_extension": ".py",
   "mimetype": "text/x-python",
   "name": "python",
   "nbconvert_exporter": "python",
   "pygments_lexer": "ipython3",
   "version": "3.7.6"
  }
 },
 "nbformat": 4,
 "nbformat_minor": 4
}
